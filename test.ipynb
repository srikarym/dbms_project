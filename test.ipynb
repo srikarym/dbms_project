{
 "cells": [
  {
   "cell_type": "code",
   "execution_count": 1,
   "outputs": [],
   "source": [
    "import numpy as np\n",
    "import os\n",
    "import sys\n",
    "import re\n",
    "from functools import reduce"
   ],
   "metadata": {
    "collapsed": false,
    "pycharm": {
     "name": "#%%\n",
     "is_executing": false
    }
   }
  },
  {
   "cell_type": "code",
   "execution_count": 40,
   "outputs": [],
   "source": [
    "query_file = 'queries.txt'\n",
    "class AttrDict(dict):\n",
    "    def __init__(self, *args, **kwargs):\n",
    "        super(AttrDict, self).__init__(*args, **kwargs)\n",
    "        self.__dict__ = self\n",
    "\n",
    "class Parser:\n",
    "    def __init__(self):\n",
    "        pass\n",
    "    \n",
    "    @classmethod\n",
    "    def remove_comments(cls,s):\n",
    "        s = s[:s.find('//')].strip() #Remove comments\n",
    "        return s\n",
    "    @classmethod\n",
    "    def splitlr(cls,s):\n",
    "        left,right = s.split(':=')\n",
    "        left = left.strip()\n",
    "        right = right.strip()\n",
    "        return left,right\n",
    "\n",
    "    @classmethod\n",
    "    def remove_outer_paren(cls,s):\n",
    "        s = s[s.find('(')+1:s.find(')')]\n",
    "        return s\n",
    "    \n",
    "    @classmethod\n",
    "    def parse(cls,s,type):\n",
    "        if type == 'input':\n",
    "            return cls.remove_outer_paren(s)\n",
    "        elif type == 'select':\n",
    "            s = s[s.find(\"(\")+1:s.rfind(\")\")]\n",
    "            base_table,args = s.split(',')\n",
    "            base_table = base_table.strip()\n",
    "            args = args.strip()\n",
    "            \n",
    "            if 'or' not in args and 'and' not in args:\n",
    "                return base_table,args,None\n",
    "            condition = 'or' if 'or' in args else 'and'\n",
    "            \n",
    "            args = args.split(condition)\n",
    "            args = [cls.remove_outer_paren(s.strip()) for s in args]\n",
    "            return base_table,args,condition\n",
    "        elif type == 'project':\n",
    "            s = s[s.find(\"(\")+1:s.rfind(\")\")]\n",
    "            base_table,args = s.split(',')[0],s.split(',')[1:]\n",
    "            base_table = base_table.strip()\n",
    "            args = [a.strip() for a in args]\n",
    "            \n",
    "            return base_table,args\n",
    "        \n",
    "        elif type == 'avg':\n",
    "            s = s[s.find(\"(\")+1:s.rfind(\")\")]\n",
    "            base_table,args = s.split(',')[0],s.split(',')[1]\n",
    "            base_table = base_table.strip()\n",
    "            args = args.strip()\n",
    "            return base_table,args\n",
    "        \n",
    "    @classmethod\n",
    "    def npy_to_dict(cls,arr):\n",
    "        D = AttrDict()\n",
    "        r,c = arr.shape\n",
    "        keys = arr[0]\n",
    "        for i,k in enumerate(keys):\n",
    "            try:\n",
    "                D[k] = arr[1:,i].astype(int)\n",
    "            except:\n",
    "                D[k] = arr[1:,i]\n",
    "        return D\n",
    "\n",
    "class Table:\n",
    "    def __init__(self,table_name,inp_name = None, t = None):\n",
    "        self.name = table_name\n",
    "        if inp_name:\n",
    "            arr = np.loadtxt(f\"{inp_name}.txt\",dtype=str,delimiter = \"|\")\n",
    "            self.t = Parser.npy_to_dict(arr)\n",
    "            print(f'{inp_name} is loaded and stored in {self.name}')\n",
    "        else:\n",
    "            self.t = t\n",
    "\n",
    "    def select(self,args,condition,name):\n",
    "        if condition:\n",
    "            args = ['self.t.' + arg for arg in args]\n",
    "            indices = []\n",
    "            for a in args:\n",
    "                i = eval(f'np.where({a})')\n",
    "                indices.append(i)\n",
    "                \n",
    "            if condition == 'or':\n",
    "                indices = reduce(np.union1d, indices)\n",
    "            else:\n",
    "                indices = reduce(np.intersect1d, indices)\n",
    "            \n",
    "        else:\n",
    "            args = args.replace('=','==')\n",
    "            args = 'self.t.' + args\n",
    "            indices = eval(f'np.where({args})')\n",
    "\n",
    "        new_table = {k:v[indices] for k,v in self.t.items()}\n",
    "        new_table = AttrDict(new_table)\n",
    "        \n",
    "        new_table = Table(name, t = new_table)\n",
    "        return new_table\n",
    "    \n",
    "    def project(self,args,name):\n",
    "        new_table = {k:self.t[k] for k in args}\n",
    "        new_table = AttrDict(new_table)\n",
    "        \n",
    "        new_table = Table(name, t = new_table)\n",
    "        return new_table\n",
    "        \n",
    "    def avg(self,args):\n",
    "        \n",
    "        arr = self.t[args]\n",
    "        ans = np.mean(arr)\n",
    "        print(f'AVG({args}) = {ans}')\n",
    "        return ans\n",
    "        \n",
    "    def __str__(self):\n",
    "        keys = list(self.t.keys())\n",
    "        n = len(self.t[keys[0]])\n",
    "        s = '|'.join(keys) + '\\n'\n",
    "        for i in range(n):\n",
    "            s += '|'.join([str(self.t[k][i]) for k in keys])\n",
    "            s += '\\n'\n",
    "                \n",
    "        return s\n",
    "    def __repr__(self):\n",
    "        return self.__str__()\n",
    "\n",
    "class Solution:\n",
    "    def __init__(self):\n",
    "        pass\n",
    "    def read_line(self,line):\n",
    "        line = Parser.remove_comments(line)\n",
    "        if line:\n",
    "            if ':=' in line:\n",
    "                left,right = Parser.splitlr(line)\n",
    "                if 'inputfromfile' in right:\n",
    "                    inp_name = Parser.parse(right,'input')\n",
    "                    exec(f'self.{left} = Table(left,inp_name)')\n",
    "                    \n",
    "                elif 'select' in right:\n",
    "                    base_table, args,condition = Parser.parse(right,'select')\n",
    "                    exec(f'self.{left} = self.{base_table}.select(args,condition,left)')\n",
    "                    \n",
    "                elif 'project' in right:\n",
    "                    base_table, args = Parser.parse(right,'project')\n",
    "                    exec(f'self.{left} = self.{base_table}.project(args,left)')\n",
    "                    \n",
    "                elif 'avggroup' in right:\n",
    "                    pass\n",
    "                elif 'movavg' in right:\n",
    "                    pass\n",
    "                \n",
    "                elif 'avg' in right:\n",
    "                    base_table, args = Parser.parse(right,'avg')\n",
    "                    exec(f'self.{left} = self.{base_table}.avg(args)')\n",
    "                \n",
    "                    \n",
    "    "
   ],
   "metadata": {
    "collapsed": false,
    "pycharm": {
     "name": "#%%\n",
     "is_executing": false
    }
   }
  },
  {
   "cell_type": "code",
   "execution_count": 41,
   "outputs": [
    {
     "name": "stdout",
     "text": [
      "sales1 is loaded and stored in R\nAVG(qty) = 23.736666666666668\n",
      "sales2 is loaded and stored in S\n"
     ],
     "output_type": "stream"
    }
   ],
   "source": [
    "solution = Solution()\n",
    "with open(query_file,'r') as f:\n",
    "    for i,line in enumerate(f):\n",
    "        \n",
    "        solution.read_line(line)\n",
    "# \n",
    "                    "
   ],
   "metadata": {
    "collapsed": false,
    "pycharm": {
     "name": "#%%\n",
     "is_executing": false
    }
   }
  },
  {
   "cell_type": "code",
   "execution_count": 23,
   "outputs": [],
   "source": [],
   "metadata": {
    "collapsed": false,
    "pycharm": {
     "name": "#%%\n",
     "is_executing": false
    }
   }
  },
  {
   "cell_type": "code",
   "execution_count": 36,
   "outputs": [],
   "source": [],
   "metadata": {
    "collapsed": false,
    "pycharm": {
     "name": "#%%\n",
     "is_executing": false
    }
   }
  },
  {
   "cell_type": "code",
   "execution_count": 37,
   "outputs": [
    {
     "data": {
      "text/plain": "'T3 := movavg(T2prime, R1_qty, 3) // perform the three item moving average of T2prime\\n'"
     },
     "metadata": {},
     "output_type": "execute_result",
     "execution_count": 37
    }
   ],
   "source": [
    "line\n",
    "\n"
   ],
   "metadata": {
    "collapsed": false,
    "pycharm": {
     "name": "#%%\n",
     "is_executing": false
    }
   }
  },
  {
   "cell_type": "code",
   "execution_count": null,
   "outputs": [],
   "source": [
    "\n"
   ],
   "metadata": {
    "collapsed": false,
    "pycharm": {
     "name": "#%%\n"
    }
   }
  }
 ],
 "metadata": {
  "kernelspec": {
   "display_name": "Python 3",
   "language": "python",
   "name": "python3"
  },
  "language_info": {
   "codemirror_mode": {
    "name": "ipython",
    "version": 2
   },
   "file_extension": ".py",
   "mimetype": "text/x-python",
   "name": "python",
   "nbconvert_exporter": "python",
   "pygments_lexer": "ipython2",
   "version": "2.7.6"
  },
  "pycharm": {
   "stem_cell": {
    "cell_type": "raw",
    "source": [],
    "metadata": {
     "collapsed": false
    }
   }
  }
 },
 "nbformat": 4,
 "nbformat_minor": 0
}