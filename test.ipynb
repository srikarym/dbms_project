{
 "cells": [
  {
   "cell_type": "code",
   "execution_count": 178,
   "metadata": {
    "pycharm": {
     "is_executing": false,
     "name": "#%%\n"
    }
   },
   "outputs": [],
   "source": [
    "import numpy as np\n",
    "import os\n",
    "import sys\n",
    "import re\n",
    "from functools import reduce\n",
    "from collections import defaultdict, OrderedDict\n",
    "import itertools\n",
    "import time\n",
    "from collections import deque\n",
    "from decimal import Decimal\n"
   ]
  },
  {
   "cell_type": "code",
   "execution_count": 208,
   "metadata": {
    "pycharm": {
     "is_executing": false,
     "name": "#%%\n"
    }
   },
   "outputs": [],
   "source": [
    "query_file = 'queries.txt'\n",
    "\n",
    "\n",
    "class Timer:\n",
    "    \"\"\"With block timer.\n",
    "    with Timer() as t:\n",
    "        foo = blah()\n",
    "    print('Request took %.03f sec.' % t.interval)\n",
    "    \"\"\"\n",
    "    def __enter__(self):\n",
    "            self.start = time.perf_counter()\n",
    "            return self\n",
    "\n",
    "    def __exit__(self, *args):\n",
    "            self.end = time.perf_counter()\n",
    "            self.interval = self.end - self.start\n",
    "            \n",
    "\n",
    "\n",
    "class OrderedDefaultDict(OrderedDict):\n",
    "    factory = list\n",
    "\n",
    "    def __missing__(self, key):\n",
    "        self[key] = value = self.factory()\n",
    "        return value\n",
    "\n",
    "class AttrDict(dict):\n",
    "    def __init__(self, *args, **kwargs):\n",
    "        super(AttrDict, self).__init__(*args, **kwargs)\n",
    "        self.__dict__ = self\n",
    "\n",
    "class Parser:\n",
    "    def __init__(self):\n",
    "        pass\n",
    "    \n",
    "    @classmethod\n",
    "    def remove_comments(cls,s):\n",
    "        if '//' in s:\n",
    "            s = s[:s.find('//')] #Remove comments\n",
    "        s = s.strip()\n",
    "        return s\n",
    "    @classmethod\n",
    "    def splitlr(cls,s):\n",
    "        left,right = s.split(':=')\n",
    "        left = left.strip()\n",
    "        right = right.strip()\n",
    "        return left,right\n",
    "\n",
    "    @classmethod\n",
    "    def remove_outer_paren(cls,s):\n",
    "        s = s[s.find('(')+1:s.find(')')]\n",
    "        return s\n",
    "    \n",
    "    @classmethod\n",
    "    def parse(cls,s,call):\n",
    "        if call == 'input':\n",
    "            return cls.remove_outer_paren(s)\n",
    "        elif call == 'select':\n",
    "            s = s[s.find(\"(\")+1:s.rfind(\")\")]\n",
    "            base_table,args = s.split(',')\n",
    "            base_table = base_table.strip()\n",
    "            args = args.strip()\n",
    "            \n",
    "            if 'or' not in args and 'and' not in args:\n",
    "                return base_table,args,None\n",
    "            condition = 'or' if 'or' in args else 'and'\n",
    "            \n",
    "            args = args.split(condition)\n",
    "            args = [cls.remove_outer_paren(s.strip()) for s in args]\n",
    "            return base_table,args,condition\n",
    "        elif call == 'project':\n",
    "            s = s[s.find(\"(\")+1:s.rfind(\")\")]\n",
    "            base_table,args = s.split(',')[0],s.split(',')[1:]\n",
    "            base_table = base_table.strip()\n",
    "            args = [a.strip() for a in args]\n",
    "            \n",
    "            return base_table,args\n",
    "        \n",
    "        elif call == 'avg':\n",
    "            s = s[s.find(\"(\")+1:s.rfind(\")\")]\n",
    "            base_table,args = s.split(',')[0],s.split(',')[1]\n",
    "            base_table = base_table.strip()\n",
    "            args = args.strip()\n",
    "            return base_table,args\n",
    "        \n",
    "        \n",
    "        elif call == 'join':\n",
    "            s = s[s.find(\"(\")+1:s.rfind(\")\")]\n",
    "            t1,t2,args = s.split(',')[0],s.split(',')[1],s.split(',')[2:] \n",
    "            t1 = t1.strip()\n",
    "            t2 = t2.strip()\n",
    "            args = [a.strip() for a in args]\n",
    "            \n",
    "            \n",
    "            if ' and ' not in args[0]:\n",
    "                return t1,t2,args[0].strip(),None\n",
    "            \n",
    "            condition = 'and'\n",
    "            args = ','.join(args).split(condition)\n",
    "            args = [cls.remove_outer_paren(s.strip()) for s in args]\n",
    "            return t1,t2,args,condition\n",
    "            \n",
    "    @classmethod\n",
    "    def npy_to_dict(cls,arr):\n",
    "        D = AttrDict()\n",
    "        r,c = arr.shape\n",
    "        keys = arr[0]\n",
    "        for i,k in enumerate(keys):\n",
    "            try:\n",
    "                D[k] = arr[1:,i].astype(int)\n",
    "            except:\n",
    "                D[k] = arr[1:,i]\n",
    "        return D\n",
    "\n",
    "class Table:\n",
    "    def __init__(self,table_name,inp_name = None, t = None):\n",
    "        self.name = table_name\n",
    "        if inp_name:\n",
    "            arr = np.loadtxt(f\"{inp_name}.txt\",dtype=str,delimiter = \"|\")\n",
    "            self.t = Parser.npy_to_dict(arr)\n",
    "        else:\n",
    "            self.t = t\n",
    "    \n",
    "    def select(self,args,condition,name):\n",
    "        if condition:\n",
    "            args = ['self.t.' + arg for arg in args]\n",
    "            indices = []\n",
    "            for a in args:\n",
    "                i = eval(f'np.where({a})')\n",
    "                indices.append(i)\n",
    "                \n",
    "            if condition == 'or':\n",
    "                indices = reduce(np.union1d, indices)\n",
    "            else:\n",
    "                indices = reduce(np.intersect1d, indices)\n",
    "            \n",
    "        else:\n",
    "            args = args.replace('=','==')\n",
    "            args = 'self.t.' + args\n",
    "            indices = eval(f'np.where({args})')\n",
    "\n",
    "        new_table = {k:v[indices] for k,v in self.t.items()}\n",
    "        new_table = AttrDict(new_table)\n",
    "        \n",
    "        new_table = Table(name, t = new_table)\n",
    "        return new_table\n",
    "    \n",
    "    def project(self,args,name):\n",
    "        new_table = {k:self.t[k] for k in args}\n",
    "        new_table = AttrDict(new_table)\n",
    "        \n",
    "        new_table = Table(name, t = new_table)\n",
    "        return new_table\n",
    "        \n",
    "    def avg_sum(self,args,operation = 'avg'):\n",
    "        \n",
    "        arr = self.t[args]\n",
    "        if operation == 'sum':\n",
    "            ans = np.sum(arr)\n",
    "        else:\n",
    "            ans = np.average(arr)\n",
    "        return str(ans)\n",
    "    \n",
    "    def avg_sum_group(self,args,name,operation = 'avg'):\n",
    "        ar1 = args[0]\n",
    "        ar_group = args[1:]\n",
    "        \n",
    "        groups = [self.t[arg] for arg in ar_group]\n",
    "        \n",
    "        groups = list(zip(*groups))\n",
    "        \n",
    "        d = defaultdict(list)\n",
    "        for i,g in enumerate(groups):\n",
    "            d[g].append(i)\n",
    "        \n",
    "        for k,ind in d.items():\n",
    "            if operation == 'avg':\n",
    "                d[k] = np.mean(self.t[ar1][ind])\n",
    "            else:\n",
    "                d[k] = np.sum(self.t[ar1][ind])\n",
    "        \n",
    "        d = OrderedDict(sorted(d.items()))\n",
    "        \n",
    "        new_table = defaultdict(list)\n",
    "        new_table[ar1] = np.array(list(d.values()))\n",
    "        \n",
    "        for key_tuple in d.keys():\n",
    "            for arg, key in zip(ar_group, key_tuple):\n",
    "                new_table[arg].append(key)\n",
    "                \n",
    "        new_table = Table(name, t = new_table)\n",
    "        return new_table\n",
    "    \n",
    "    def sort(self,args,name):\n",
    "        s = ','.join('self.t.'+a for a in args)\n",
    "        to_sort = eval(f'list(zip({s}))')\n",
    "        indices = Table.argsort(to_sort)\n",
    "        \n",
    "        new_table = {k:v[indices] for k,v in self.t.items()}\n",
    "        new_table = Table(name, t = new_table)\n",
    "        return new_table\n",
    "    \n",
    "    def moving_avg_sum(self,args,name,operation = 'avg'):\n",
    "        col,N = args\n",
    "        \n",
    "        arr = self.t[col]\n",
    "        \n",
    "        agg = Table.moving_agg(arr,int(N),operation)\n",
    "        \n",
    "        col_name = f'mov_{operation}'\n",
    "        \n",
    "        new_table = {}\n",
    "        \n",
    "        new_table[col] = arr\n",
    "        new_table[col_name] = agg\n",
    "        new_table = Table(name, t = new_table)\n",
    "        return new_table\n",
    "    \n",
    "    @staticmethod\n",
    "    def argsort(lis):\n",
    "        return sorted(range(len(lis)), key=lis.__getitem__)\n",
    "\n",
    "    \n",
    "    @staticmethod\n",
    "    def find_operator(s):\n",
    "        lis = ['==','<=','>=','<','>','!=','=']\n",
    "        for l in lis:\n",
    "            if l in s:\n",
    "                return l\n",
    "    \n",
    "    @staticmethod\n",
    "    def moving_agg(x, N,operation = 'avg'):\n",
    "        ar = deque([])\n",
    "        res = []\n",
    "        for n in x:\n",
    "            ar.append(n)\n",
    "            if len(ar) == N+1:\n",
    "                ar.popleft()\n",
    "            if operation == 'avg':\n",
    "                res.append(\"{0:.4f}\".format(np.mean(ar)))\n",
    "            else:\n",
    "                res.append(np.sum(ar))\n",
    "        return res\n",
    "    \n",
    "    \n",
    "    \n",
    "    @staticmethod\n",
    "    def join(name1,name2,args,condition,name,t1,t2):\n",
    "        d1,d2 = t1.t, t2.t\n",
    "        \n",
    "        k1,k2 = list(d1.keys()), list(d2.keys())\n",
    "        n1,n2 = len(d1[k1[0]]), len(d2[k2[0]])\n",
    "        indices = []\n",
    "        \n",
    "        exec(f'{name1} = t1.t')\n",
    "        exec(f'{name2} = t2.t')\n",
    "        \n",
    "        if condition:\n",
    "            min_len = float('inf')\n",
    "            min_index = -1\n",
    "            min_lis = []\n",
    "            \n",
    "            for i,s in enumerate(args):\n",
    "                \n",
    "                lhs = ''\n",
    "                rhs = ''\n",
    "                if Table.find_operator(s) == '=': \n",
    "                    s = s.replace('=','==')\n",
    "                    \n",
    "                for key in k1:\n",
    "                    sub = f'{name1}.{key}'\n",
    "                    if sub in s:\n",
    "                        lhs = sub\n",
    "                        break\n",
    "\n",
    "                for key in k2:\n",
    "                    sub = f'{name2}.{key}'\n",
    "                    if sub in s:\n",
    "                        rhs = sub\n",
    "                        break\n",
    "                \n",
    "                op = Table.find_operator(s)\n",
    "                s = f'xx {op} yy'\n",
    "                \n",
    "                xx,yy = eval(f'np.meshgrid({lhs}, {rhs}, sparse=False, indexing=\"ij\")')\n",
    "                ind1,ind2 = eval(f'np.where({s})')\n",
    "                \n",
    "                if len(ind1) < min_len:\n",
    "                    min_len = len(ind1)\n",
    "                    min_lis = [ind1,ind2]\n",
    "                    min_index = i\n",
    "            \n",
    "            \n",
    "            for i,s in enumerate(args):\n",
    "                if i != min_index:\n",
    "                    for key in k1:\n",
    "                        sub = f'{name1}.{key}'\n",
    "                        if sub in s:\n",
    "                            s = s.replace(sub, sub + '[m]')\n",
    "                            break\n",
    "\n",
    "                    for key in k2:\n",
    "                        sub = f'{name2}.{key}'\n",
    "                        if sub in s:\n",
    "                            s = s.replace(sub,sub + '[n]')\n",
    "                            break\n",
    "                    ind1 = []\n",
    "                    ind2 = []\n",
    "                    for m,n in zip(*min_lis):\n",
    "                        if eval(s):\n",
    "                            ind1.append(m)\n",
    "                            ind2.append(n)\n",
    "                    min_lis = [ind1,ind2]\n",
    "                \n",
    "            indices1 = np.array(min_lis[0])\n",
    "            indices2 = np.array(min_lis[1])\n",
    "            \n",
    "        else:\n",
    "            s = args\n",
    "            if '=' in s and ('<' not in s and '>' not in s): \n",
    "                s = s.replace('=','==')\n",
    "            \n",
    "            lhs = ''\n",
    "            rhs = ''\n",
    "\n",
    "\n",
    "            for key in k1:\n",
    "                sub = f'{name1}.{key}'\n",
    "                if sub in s:\n",
    "                    lhs = sub\n",
    "                    break\n",
    "\n",
    "            for key in k2:\n",
    "                sub = f'{name2}.{key}'\n",
    "                if sub in s:\n",
    "                    rhs = sub\n",
    "            \n",
    "            \n",
    "            op = Table.find_operator(s)\n",
    "            s = f'xx {op} yy'\n",
    "\n",
    "            xx,yy = eval(f'np.meshgrid({lhs}, {rhs}, sparse=False, indexing=\"ij\")')\n",
    "            indices1,indices2 = eval(f'np.where({s})')\n",
    "            \n",
    "        \n",
    "        d1 = {f'{name1}_{k}':v[indices1] for k,v in d1.items()}\n",
    "        d2 = {f'{name2}_{k}':v[indices2] for k,v in d2.items()}\n",
    "        d_merged = OrderedDict({**d1, **d2})\n",
    "        \n",
    "        new_table = AttrDict(d_merged)\n",
    "        new_table = Table(name, t = new_table)\n",
    "        return new_table\n",
    "        \n",
    "    def __str__(self):\n",
    "        keys = list(self.t.keys())\n",
    "        s = ''\n",
    "        n = len(self.t[keys[0]])\n",
    "        \n",
    "        max_size = [0]*len(keys)\n",
    "        for i,k in enumerate(keys):\n",
    "            for a in self.t[k]:\n",
    "                max_size[i] = max(max_size[i], len(str(a)))\n",
    "        \n",
    "        \n",
    "        \n",
    "        for i in range(n):\n",
    "            for j,k in enumerate(keys):\n",
    "                ms = max_size[j]\n",
    "                format_str = '{:<' + str(ms+2) + '}'\n",
    "                s += format_str.format(self.t[k][i])\n",
    "            s += '\\n'\n",
    "            \n",
    "                \n",
    "        return s\n",
    "    def __repr__(self):\n",
    "        return self.__str__()\n",
    "\n",
    "class Solution:\n",
    "    def __init__(self):\n",
    "        pass\n",
    "    \n",
    "    def read_line(self,line):\n",
    "        \n",
    "        line = Parser.remove_comments(line)\n",
    "        if line:\n",
    "            with Timer() as t:\n",
    "                if ':=' in line:\n",
    "                    left,right = Parser.splitlr(line)\n",
    "                    if 'inputfromfile' in right:\n",
    "                        inp_name = Parser.parse(right,'input')\n",
    "                        exec(f'self.{left} = Table(left,inp_name)')\n",
    "\n",
    "                    elif 'select' in right:\n",
    "                        base_table, args,condition = Parser.parse(right,'select')\n",
    "                        exec(f'self.{left} = self.{base_table}.select(args,condition,left)')\n",
    "\n",
    "                    elif 'project' in right:\n",
    "                        base_table, args = Parser.parse(right,'project')\n",
    "                        exec(f'self.{left} = self.{base_table}.project(args,left)')\n",
    "\n",
    "                    elif 'avggroup' in right:\n",
    "                        base_table, args = Parser.parse(right,'project')\n",
    "                        exec(f'self.{left} = self.{base_table}.avg_sum_group(args,left)')\n",
    "\n",
    "                    elif 'movavg' in right:\n",
    "                        base_table, args = Parser.parse(right,'project')\n",
    "                        exec(f'self.{left} = self.{base_table}.moving_avg_sum(args,left)')\n",
    "\n",
    "                    elif 'avg' in right:\n",
    "                        base_table, args = Parser.parse(right,'avg')\n",
    "                        exec(f'self.{left} = self.{base_table}.avg_sum(args)')\n",
    "\n",
    "                    elif 'sumgroup' in right:\n",
    "                        base_table, args = Parser.parse(right,'project')\n",
    "                        exec(f'self.{left} = self.{base_table}.avg_sum_group(args,left,\"sum\")')\n",
    "\n",
    "                    elif 'movsum' in right:\n",
    "                        base_table, args = Parser.parse(right,'project')\n",
    "                        exec(f'self.{left} = self.{base_table}.moving_avg_sum(args,left,\"sum\")')\n",
    "\n",
    "                    elif 'sum' in right:\n",
    "                        base_table, args = Parser.parse(right,'avg')\n",
    "                        exec(f'self.{left} = self.{base_table}.avg_sum(args,sum)')\n",
    "\n",
    "                    elif 'sort' in right:\n",
    "                        base_table, args = Parser.parse(right,'project')\n",
    "                        exec(f'self.{left} = self.{base_table}.sort(args,left)')\n",
    "                    elif 'join' in right:\n",
    "                        t1,t2,args,condition = Parser.parse(right,'join')\n",
    "                        exec(f'self.{left} = Table.join(t1,t2,args,condition,left,{\"self.\"+t1},{\"self.\" + t2})')\n",
    "                \n",
    "            print(line,'\\nQuery took %.06f sec.\\n' % t.interval) \n",
    "    "
   ]
  },
  {
   "cell_type": "code",
   "execution_count": 209,
   "metadata": {
    "pycharm": {
     "is_executing": false,
     "name": "#%%\n"
    },
    "scrolled": true
   },
   "outputs": [
    {
     "name": "stdout",
     "output_type": "stream",
     "text": [
      "R := inputfromfile(sales1) \n",
      "Query took 0.024852 sec.\n",
      "\n",
      "R1 := select(R, (time > 50) or (qty < 30)) \n",
      "Query took 0.001121 sec.\n",
      "\n",
      "R2 := project(R1, saleid, qty, pricerange) \n",
      "Query took 0.000079 sec.\n",
      "\n",
      "R3 := avg(R1, qty) \n",
      "Query took 0.000130 sec.\n",
      "\n",
      "R4 := sumgroup(R1, time, qty) \n",
      "Query took 0.001187 sec.\n",
      "\n",
      "R5 := sumgroup(R1, qty, time, pricerange) \n",
      "Query took 0.002616 sec.\n",
      "\n",
      "R6 := avggroup(R1, qty, pricerange) \n",
      "Query took 0.000785 sec.\n",
      "\n",
      "S := inputfromfile(sales2) \n",
      "Query took 0.635050 sec.\n",
      "\n",
      "T := join(R, S, R.customerid = S.C) \n",
      "Query took 0.815189 sec.\n",
      "\n",
      "T1 := join(R1, S, (R1.qty > S.Q) and (R1.saleid = S.saleid)) \n",
      "Query took 2.042371 sec.\n",
      "\n",
      "T2 := sort(T1, S_C) \n",
      "Query took 0.000549 sec.\n",
      "\n",
      "T2prime := sort(T1, R1_time, S_C) \n",
      "Query took 0.000583 sec.\n",
      "\n",
      "T3 := movavg(T2prime, R1_qty, 3) \n",
      "Query took 0.004367 sec.\n",
      "\n",
      "T4 := movsum(T2prime, R1_qty, 5) \n",
      "Query took 0.002726 sec.\n",
      "\n",
      "Q1 := select(R, qty = 5) \n",
      "Query took 0.000070 sec.\n",
      "\n",
      "Btree(R, qty) \n",
      "Query took 0.000001 sec.\n",
      "\n",
      "Q2 := select(R, qty = 5) \n",
      "Query took 0.000054 sec.\n",
      "\n",
      "Q3 := select(R, itemid = 7) \n",
      "Query took 0.000049 sec.\n",
      "\n",
      "Hash(R,itemid) \n",
      "Query took 0.000000 sec.\n",
      "\n",
      "Q4 := select(R, itemid = 7) \n",
      "Query took 0.000108 sec.\n",
      "\n"
     ]
    }
   ],
   "source": [
    "solution = Solution()\n",
    "with open(query_file,'r') as f:\n",
    "    for i,line in enumerate(f):\n",
    "        solution.read_line(line)\n"
   ]
  },
  {
   "cell_type": "code",
   "execution_count": 219,
   "metadata": {},
   "outputs": [
    {
     "data": {
      "text/plain": [
       "('R1', 'qty')"
      ]
     },
     "execution_count": 219,
     "metadata": {},
     "output_type": "execute_result"
    }
   ],
   "source": [
    "s = 'avg(R1, qty) '\n",
    "Parser.parse(s,'avg')"
   ]
  },
  {
   "cell_type": "code",
   "execution_count": 221,
   "metadata": {},
   "outputs": [],
   "source": [
    "a = np.array([['Name','ID', 'Qty'],['a',0,12], ['c',1,15],['e',2,13]])"
   ]
  },
  {
   "cell_type": "code",
   "execution_count": 222,
   "metadata": {},
   "outputs": [
    {
     "data": {
      "text/plain": [
       "{'Name': array(['a', 'c', 'e'], dtype='<U4'),\n",
       " 'ID': array([0, 1, 2]),\n",
       " 'Qty': array([12, 15, 13])}"
      ]
     },
     "execution_count": 222,
     "metadata": {},
     "output_type": "execute_result"
    }
   ],
   "source": [
    "Parser.npy_to_dict(a)"
   ]
  },
  {
   "cell_type": "code",
   "execution_count": 223,
   "metadata": {},
   "outputs": [],
   "source": [
    "x = [3,2,4,1,6]"
   ]
  },
  {
   "cell_type": "code",
   "execution_count": 224,
   "metadata": {},
   "outputs": [
    {
     "data": {
      "text/plain": [
       "[3, 1, 0, 2, 4]"
      ]
     },
     "execution_count": 224,
     "metadata": {},
     "output_type": "execute_result"
    }
   ],
   "source": [
    "Table.argsort(x)"
   ]
  },
  {
   "cell_type": "code",
   "execution_count": 225,
   "metadata": {},
   "outputs": [],
   "source": [
    "tables = [solution.Q2.t, solution.Q4.t]"
   ]
  },
  {
   "cell_type": "code",
   "execution_count": 226,
   "metadata": {},
   "outputs": [
    {
     "data": {
      "text/plain": [
       "dict_keys(['saleid', 'itemid', 'customerid', 'storeid', 'time', 'qty', 'pricerange'])"
      ]
     },
     "execution_count": 226,
     "metadata": {},
     "output_type": "execute_result"
    }
   ],
   "source": [
    "tables[0].keys()"
   ]
  },
  {
   "cell_type": "code",
   "execution_count": 35,
   "metadata": {},
   "outputs": [],
   "source": [
    "from BTrees.OOBTree import OOBTree"
   ]
  },
  {
   "cell_type": "code",
   "execution_count": 36,
   "metadata": {},
   "outputs": [],
   "source": [
    "btree = OOBTree()\n"
   ]
  },
  {
   "cell_type": "code",
   "execution_count": 37,
   "metadata": {},
   "outputs": [],
   "source": [
    "btree[2] = 3"
   ]
  },
  {
   "cell_type": "code",
   "execution_count": 38,
   "metadata": {},
   "outputs": [],
   "source": [
    "btree[3] = \"345\""
   ]
  },
  {
   "cell_type": "code",
   "execution_count": 39,
   "metadata": {},
   "outputs": [],
   "source": [
    "btree[4] = [1,4,6,7]"
   ]
  },
  {
   "cell_type": "code",
   "execution_count": 54,
   "metadata": {},
   "outputs": [
    {
     "data": {
      "text/plain": [
       "[3, '345']"
      ]
     },
     "execution_count": 54,
     "metadata": {},
     "output_type": "execute_result"
    }
   ],
   "source": [
    "list(btree.values(2,3))"
   ]
  },
  {
   "cell_type": "code",
   "execution_count": 62,
   "metadata": {},
   "outputs": [
    {
     "data": {
      "text/plain": [
       "0"
      ]
     },
     "execution_count": 62,
     "metadata": {},
     "output_type": "execute_result"
    }
   ],
   "source": [
    "bisect.bisect_left(btree.keys(),1)"
   ]
  },
  {
   "cell_type": "code",
   "execution_count": 63,
   "metadata": {},
   "outputs": [
    {
     "data": {
      "text/plain": [
       "[2, 3, 4]"
      ]
     },
     "execution_count": 63,
     "metadata": {},
     "output_type": "execute_result"
    }
   ],
   "source": [
    "list(btree.keys())"
   ]
  },
  {
   "cell_type": "code",
   "execution_count": 22,
   "metadata": {},
   "outputs": [],
   "source": [
    "a = np.array([1,1,2,3,5,4,4,2,1,6,7,8,3,1,2])"
   ]
  },
  {
   "cell_type": "code",
   "execution_count": 58,
   "metadata": {},
   "outputs": [],
   "source": [
    "import bisect"
   ]
  },
  {
   "cell_type": "code",
   "execution_count": null,
   "metadata": {},
   "outputs": [],
   "source": []
  }
 ],
 "metadata": {
  "kernelspec": {
   "display_name": "Python 3",
   "language": "python",
   "name": "python3"
  },
  "language_info": {
   "codemirror_mode": {
    "name": "ipython",
    "version": 3
   },
   "file_extension": ".py",
   "mimetype": "text/x-python",
   "name": "python",
   "nbconvert_exporter": "python",
   "pygments_lexer": "ipython3",
   "version": "3.6.8"
  },
  "pycharm": {
   "stem_cell": {
    "cell_type": "raw",
    "metadata": {
     "collapsed": false
    },
    "source": []
   }
  }
 },
 "nbformat": 4,
 "nbformat_minor": 1
}
